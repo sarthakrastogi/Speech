{
 "cells": [
  {
   "cell_type": "code",
   "execution_count": 1,
   "metadata": {
    "ExecuteTime": {
     "end_time": "2022-08-04T12:53:20.400825Z",
     "start_time": "2022-08-04T12:53:18.978200Z"
    },
    "executionInfo": {
     "elapsed": 490,
     "status": "ok",
     "timestamp": 1659602235793,
     "user": {
      "displayName": "Sarthak Rastogi",
      "userId": "13011506269675720653"
     },
     "user_tz": -330
    },
    "id": "7k7VGcgy0tdu"
   },
   "outputs": [],
   "source": [
    "import pandas as pd\n",
    "import numpy as np"
   ]
  },
  {
   "cell_type": "code",
   "execution_count": 107,
   "metadata": {
    "colab": {
     "base_uri": "https://localhost:8080/"
    },
    "executionInfo": {
     "elapsed": 4004,
     "status": "ok",
     "timestamp": 1659602240487,
     "user": {
      "displayName": "Sarthak Rastogi",
      "userId": "13011506269675720653"
     },
     "user_tz": -330
    },
    "id": "759CiwxHkViY",
    "outputId": "379e1425-056a-43ab-8c95-3381d32ea52a"
   },
   "outputs": [
    {
     "name": "stdout",
     "output_type": "stream",
     "text": [
      "Drive already mounted at /content/drive; to attempt to forcibly remount, call drive.mount(\"/content/drive\", force_remount=True).\n"
     ]
    }
   ],
   "source": [
    "from google.colab import drive\n",
    "drive.mount('/content/drive')"
   ]
  },
  {
   "cell_type": "code",
   "execution_count": 108,
   "metadata": {
    "ExecuteTime": {
     "end_time": "2022-08-04T06:15:05.103729Z",
     "start_time": "2022-08-04T06:15:05.006104Z"
    },
    "executionInfo": {
     "elapsed": 56,
     "status": "ok",
     "timestamp": 1659602240491,
     "user": {
      "displayName": "Sarthak Rastogi",
      "userId": "13011506269675720653"
     },
     "user_tz": -330
    },
    "id": "ZCfvimUk0tdz"
   },
   "outputs": [],
   "source": [
    "path = \"/content/drive/MyDrive/Colab Notebooks/IIT Kharagpur/\"\n",
    "df = pd.read_csv(path + \"1mg_data_annotators_copy - sarthak_hindi (1).csv\")"
   ]
  },
  {
   "cell_type": "code",
   "execution_count": 109,
   "metadata": {
    "ExecuteTime": {
     "end_time": "2022-08-04T06:16:25.049401Z",
     "start_time": "2022-08-04T06:16:25.005371Z"
    },
    "colab": {
     "base_uri": "https://localhost:8080/",
     "height": 424
    },
    "executionInfo": {
     "elapsed": 55,
     "status": "ok",
     "timestamp": 1659602240493,
     "user": {
      "displayName": "Sarthak Rastogi",
      "userId": "13011506269675720653"
     },
     "user_tz": -330
    },
    "id": "PFhzyVdTkK1M",
    "outputId": "d246e7b6-5138-4299-f5b2-8c0fc708198d"
   },
   "outputs": [
    {
     "data": {
      "text/html": [
       "\n",
       "  <div id=\"df-cc5fe94f-7ed0-488e-82af-616c0e24a102\">\n",
       "    <div class=\"colab-df-container\">\n",
       "      <div>\n",
       "<style scoped>\n",
       "    .dataframe tbody tr th:only-of-type {\n",
       "        vertical-align: middle;\n",
       "    }\n",
       "\n",
       "    .dataframe tbody tr th {\n",
       "        vertical-align: top;\n",
       "    }\n",
       "\n",
       "    .dataframe thead th {\n",
       "        text-align: right;\n",
       "    }\n",
       "</style>\n",
       "<table border=\"1\" class=\"dataframe\">\n",
       "  <thead>\n",
       "    <tr style=\"text-align: right;\">\n",
       "      <th></th>\n",
       "      <th>Label</th>\n",
       "      <th>manually_translated_hindi</th>\n",
       "      <th>L</th>\n",
       "    </tr>\n",
       "  </thead>\n",
       "  <tbody>\n",
       "    <tr>\n",
       "      <th>0</th>\n",
       "      <td>Other</td>\n",
       "      <td>क्या सांसों की बदबू का कीटोन्स से कोई लेना-देन...</td>\n",
       "      <td>2.0</td>\n",
       "    </tr>\n",
       "    <tr>\n",
       "      <th>1</th>\n",
       "      <td>Disease</td>\n",
       "      <td>क्या एच पाइलोरी आईटीपी का कारण बन सकता है?</td>\n",
       "      <td>0.0</td>\n",
       "    </tr>\n",
       "    <tr>\n",
       "      <th>2</th>\n",
       "      <td>Disease</td>\n",
       "      <td>क्या होता है यदि एक वसामय पुटी से सभी थैली को ...</td>\n",
       "      <td>0.0</td>\n",
       "    </tr>\n",
       "    <tr>\n",
       "      <th>3</th>\n",
       "      <td>Drug</td>\n",
       "      <td>एंटीमैटिक क्या है?</td>\n",
       "      <td>1.0</td>\n",
       "    </tr>\n",
       "    <tr>\n",
       "      <th>4</th>\n",
       "      <td>Disease</td>\n",
       "      <td>क्या टॉन्सिल स्टोन आपके दांतों को नुकसान पहुंच...</td>\n",
       "      <td>0.0</td>\n",
       "    </tr>\n",
       "    <tr>\n",
       "      <th>...</th>\n",
       "      <td>...</td>\n",
       "      <td>...</td>\n",
       "      <td>...</td>\n",
       "    </tr>\n",
       "    <tr>\n",
       "      <th>232</th>\n",
       "      <td>Treatment</td>\n",
       "      <td>एडेनोपैथी क्या है?</td>\n",
       "      <td>3.0</td>\n",
       "    </tr>\n",
       "    <tr>\n",
       "      <th>233</th>\n",
       "      <td>Treatment</td>\n",
       "      <td>क्या आयरन सप्लीमेंट से गैस बनती है?</td>\n",
       "      <td>3.0</td>\n",
       "    </tr>\n",
       "    <tr>\n",
       "      <th>234</th>\n",
       "      <td>Treatment</td>\n",
       "      <td>पोसेलेन के डेन्चर के लिए सबसे अच्छा रंग क्या है?</td>\n",
       "      <td>3.0</td>\n",
       "    </tr>\n",
       "    <tr>\n",
       "      <th>235</th>\n",
       "      <td>Treatment</td>\n",
       "      <td>कल कोलोनोस्कोपी लेकिन मेरे मासिक धर्म चक्र शुर...</td>\n",
       "      <td>3.0</td>\n",
       "    </tr>\n",
       "    <tr>\n",
       "      <th>236</th>\n",
       "      <td>Treatment</td>\n",
       "      <td>क्या एक ट्यूबल बंधाव के साथ एक महिला अभी भी ओव...</td>\n",
       "      <td>3.0</td>\n",
       "    </tr>\n",
       "  </tbody>\n",
       "</table>\n",
       "<p>237 rows × 3 columns</p>\n",
       "</div>\n",
       "      <button class=\"colab-df-convert\" onclick=\"convertToInteractive('df-cc5fe94f-7ed0-488e-82af-616c0e24a102')\"\n",
       "              title=\"Convert this dataframe to an interactive table.\"\n",
       "              style=\"display:none;\">\n",
       "        \n",
       "  <svg xmlns=\"http://www.w3.org/2000/svg\" height=\"24px\"viewBox=\"0 0 24 24\"\n",
       "       width=\"24px\">\n",
       "    <path d=\"M0 0h24v24H0V0z\" fill=\"none\"/>\n",
       "    <path d=\"M18.56 5.44l.94 2.06.94-2.06 2.06-.94-2.06-.94-.94-2.06-.94 2.06-2.06.94zm-11 1L8.5 8.5l.94-2.06 2.06-.94-2.06-.94L8.5 2.5l-.94 2.06-2.06.94zm10 10l.94 2.06.94-2.06 2.06-.94-2.06-.94-.94-2.06-.94 2.06-2.06.94z\"/><path d=\"M17.41 7.96l-1.37-1.37c-.4-.4-.92-.59-1.43-.59-.52 0-1.04.2-1.43.59L10.3 9.45l-7.72 7.72c-.78.78-.78 2.05 0 2.83L4 21.41c.39.39.9.59 1.41.59.51 0 1.02-.2 1.41-.59l7.78-7.78 2.81-2.81c.8-.78.8-2.07 0-2.86zM5.41 20L4 18.59l7.72-7.72 1.47 1.35L5.41 20z\"/>\n",
       "  </svg>\n",
       "      </button>\n",
       "      \n",
       "  <style>\n",
       "    .colab-df-container {\n",
       "      display:flex;\n",
       "      flex-wrap:wrap;\n",
       "      gap: 12px;\n",
       "    }\n",
       "\n",
       "    .colab-df-convert {\n",
       "      background-color: #E8F0FE;\n",
       "      border: none;\n",
       "      border-radius: 50%;\n",
       "      cursor: pointer;\n",
       "      display: none;\n",
       "      fill: #1967D2;\n",
       "      height: 32px;\n",
       "      padding: 0 0 0 0;\n",
       "      width: 32px;\n",
       "    }\n",
       "\n",
       "    .colab-df-convert:hover {\n",
       "      background-color: #E2EBFA;\n",
       "      box-shadow: 0px 1px 2px rgba(60, 64, 67, 0.3), 0px 1px 3px 1px rgba(60, 64, 67, 0.15);\n",
       "      fill: #174EA6;\n",
       "    }\n",
       "\n",
       "    [theme=dark] .colab-df-convert {\n",
       "      background-color: #3B4455;\n",
       "      fill: #D2E3FC;\n",
       "    }\n",
       "\n",
       "    [theme=dark] .colab-df-convert:hover {\n",
       "      background-color: #434B5C;\n",
       "      box-shadow: 0px 1px 3px 1px rgba(0, 0, 0, 0.15);\n",
       "      filter: drop-shadow(0px 1px 2px rgba(0, 0, 0, 0.3));\n",
       "      fill: #FFFFFF;\n",
       "    }\n",
       "  </style>\n",
       "\n",
       "      <script>\n",
       "        const buttonEl =\n",
       "          document.querySelector('#df-cc5fe94f-7ed0-488e-82af-616c0e24a102 button.colab-df-convert');\n",
       "        buttonEl.style.display =\n",
       "          google.colab.kernel.accessAllowed ? 'block' : 'none';\n",
       "\n",
       "        async function convertToInteractive(key) {\n",
       "          const element = document.querySelector('#df-cc5fe94f-7ed0-488e-82af-616c0e24a102');\n",
       "          const dataTable =\n",
       "            await google.colab.kernel.invokeFunction('convertToInteractive',\n",
       "                                                     [key], {});\n",
       "          if (!dataTable) return;\n",
       "\n",
       "          const docLinkHtml = 'Like what you see? Visit the ' +\n",
       "            '<a target=\"_blank\" href=https://colab.research.google.com/notebooks/data_table.ipynb>data table notebook</a>'\n",
       "            + ' to learn more about interactive tables.';\n",
       "          element.innerHTML = '';\n",
       "          dataTable['output_type'] = 'display_data';\n",
       "          await google.colab.output.renderOutput(dataTable, element);\n",
       "          const docLink = document.createElement('div');\n",
       "          docLink.innerHTML = docLinkHtml;\n",
       "          element.appendChild(docLink);\n",
       "        }\n",
       "      </script>\n",
       "    </div>\n",
       "  </div>\n",
       "  "
      ],
      "text/plain": [
       "         Label                          manually_translated_hindi    L\n",
       "0        Other  क्या सांसों की बदबू का कीटोन्स से कोई लेना-देन...  2.0\n",
       "1      Disease         क्या एच पाइलोरी आईटीपी का कारण बन सकता है?  0.0\n",
       "2      Disease  क्या होता है यदि एक वसामय पुटी से सभी थैली को ...  0.0\n",
       "3         Drug                                 एंटीमैटिक क्या है?  1.0\n",
       "4      Disease  क्या टॉन्सिल स्टोन आपके दांतों को नुकसान पहुंच...  0.0\n",
       "..         ...                                                ...  ...\n",
       "232  Treatment                                 एडेनोपैथी क्या है?  3.0\n",
       "233  Treatment                क्या आयरन सप्लीमेंट से गैस बनती है?  3.0\n",
       "234  Treatment   पोसेलेन के डेन्चर के लिए सबसे अच्छा रंग क्या है?  3.0\n",
       "235  Treatment  कल कोलोनोस्कोपी लेकिन मेरे मासिक धर्म चक्र शुर...  3.0\n",
       "236  Treatment  क्या एक ट्यूबल बंधाव के साथ एक महिला अभी भी ओव...  3.0\n",
       "\n",
       "[237 rows x 3 columns]"
      ]
     },
     "execution_count": 109,
     "metadata": {},
     "output_type": "execute_result"
    }
   ],
   "source": [
    "df = df[['Label', 'manually_translated_hindi']]\n",
    "#df = df.join(pd.get_dummies(df.Label))\n",
    "from sklearn.preprocessing import OrdinalEncoder\n",
    "oe = OrdinalEncoder()\n",
    "df['Label'] = oe.fit_transform(np.array(df['Label']).reshape(-1, 1))\n",
    "#df.drop([\"Label\"], axis=1, inplace = True)\n",
    "df"
   ]
  },
  {
   "cell_type": "code",
   "execution_count": 110,
   "metadata": {
    "colab": {
     "base_uri": "https://localhost:8080/",
     "height": 105
    },
    "executionInfo": {
     "elapsed": 52,
     "status": "ok",
     "timestamp": 1659602240496,
     "user": {
      "displayName": "Sarthak Rastogi",
      "userId": "13011506269675720653"
     },
     "user_tz": -330
    },
    "id": "mrQTDgD2yYU6",
    "outputId": "f98c537e-d00c-480d-d05f-5391c6cab9ba"
   },
   "outputs": [
    {
     "data": {
      "application/vnd.google.colaboratory.intrinsic+json": {
       "type": "string"
      },
      "text/plain": [
       "'path = \\'google/muril-base-cased\\'\\n## Loading the model\\nfrom transformers import AutoModel, AutoTokenizer\\nimport torch\\ntokenizer = AutoTokenizer.from_pretrained(path)\\nmodel = AutoModel.from_pretrained(path,output_hidden_states=True)\\n## Embeddings \\ntext =\"कोई अच्छी सी फिल्म लगायो\"\\nprint(tokenizer.convert_ids_to_tokens(tokenizer.encode(text)))\\ninput_encoded = tokenizer.encode_plus(text, return_tensors=\"pt\")\\nwith torch.no_grad():\\n         states = model(**input_encoded).hidden_states\\noutput = torch.stack([states[i] for i in range(len(states))])\\noutput = output.squeeze()\\nprint(\"Output shape is {}\".format(output.shape))'"
      ]
     },
     "execution_count": 110,
     "metadata": {},
     "output_type": "execute_result"
    }
   ],
   "source": [
    "'''path = 'google/muril-base-cased'\n",
    "## Loading the model\n",
    "from transformers import AutoModel, AutoTokenizer\n",
    "import torch\n",
    "tokenizer = AutoTokenizer.from_pretrained(path)\n",
    "model = AutoModel.from_pretrained(path,output_hidden_states=True)\n",
    "## Embeddings \n",
    "text =\"कोई अच्छी सी फिल्म लगायो\"\n",
    "print(tokenizer.convert_ids_to_tokens(tokenizer.encode(text)))\n",
    "input_encoded = tokenizer.encode_plus(text, return_tensors=\"pt\")\n",
    "with torch.no_grad():\n",
    "         states = model(**input_encoded).hidden_states\n",
    "output = torch.stack([states[i] for i in range(len(states))])\n",
    "output = output.squeeze()\n",
    "print(\"Output shape is {}\".format(output.shape))'''"
   ]
  },
  {
   "cell_type": "code",
   "execution_count": 111,
   "metadata": {
    "executionInfo": {
     "elapsed": 46,
     "status": "ok",
     "timestamp": 1659602240497,
     "user": {
      "displayName": "Sarthak Rastogi",
      "userId": "13011506269675720653"
     },
     "user_tz": -330
    },
    "id": "kze6mqmC03lx"
   },
   "outputs": [],
   "source": [
    "#!pip install pyspark"
   ]
  },
  {
   "cell_type": "code",
   "execution_count": 112,
   "metadata": {
    "executionInfo": {
     "elapsed": 45,
     "status": "ok",
     "timestamp": 1659602240498,
     "user": {
      "displayName": "Sarthak Rastogi",
      "userId": "13011506269675720653"
     },
     "user_tz": -330
    },
    "id": "caajuCHy0xz8"
   },
   "outputs": [],
   "source": [
    "#!pip install sparknlp"
   ]
  },
  {
   "cell_type": "code",
   "execution_count": 113,
   "metadata": {
    "executionInfo": {
     "elapsed": 47,
     "status": "ok",
     "timestamp": 1659602240501,
     "user": {
      "displayName": "Sarthak Rastogi",
      "userId": "13011506269675720653"
     },
     "user_tz": -330
    },
    "id": "fgyKR0qz0wt_"
   },
   "outputs": [],
   "source": [
    "#from sparknlp.base import *\n",
    "#from sparknlp.annotator import *"
   ]
  },
  {
   "cell_type": "code",
   "execution_count": 114,
   "metadata": {
    "executionInfo": {
     "elapsed": 42,
     "status": "ok",
     "timestamp": 1659602240502,
     "user": {
      "displayName": "Sarthak Rastogi",
      "userId": "13011506269675720653"
     },
     "user_tz": -330
    },
    "id": "AcrNR1YL1yvP"
   },
   "outputs": [],
   "source": [
    "#from pyspark import SparkContext\n",
    "#sc = None#=SparkContext()"
   ]
  },
  {
   "cell_type": "code",
   "execution_count": 115,
   "metadata": {
    "executionInfo": {
     "elapsed": 733,
     "status": "ok",
     "timestamp": 1659602241194,
     "user": {
      "displayName": "Sarthak Rastogi",
      "userId": "13011506269675720653"
     },
     "user_tz": -330
    },
    "id": "Jl2Dfs532EWR"
   },
   "outputs": [],
   "source": [
    "#import sparknlp"
   ]
  },
  {
   "cell_type": "code",
   "execution_count": 116,
   "metadata": {
    "executionInfo": {
     "elapsed": 15,
     "status": "ok",
     "timestamp": 1659602241195,
     "user": {
      "displayName": "Sarthak Rastogi",
      "userId": "13011506269675720653"
     },
     "user_tz": -330
    },
    "id": "Da5ArYZ_1_yk"
   },
   "outputs": [],
   "source": [
    "#spark = sparknlp.start()"
   ]
  },
  {
   "cell_type": "code",
   "execution_count": 117,
   "metadata": {
    "executionInfo": {
     "elapsed": 14,
     "status": "ok",
     "timestamp": 1659602241195,
     "user": {
      "displayName": "Sarthak Rastogi",
      "userId": "13011506269675720653"
     },
     "user_tz": -330
    },
    "id": "rVZmyYg3yYMz"
   },
   "outputs": [],
   "source": [
    "#sent_embeddings = BertSentenceEmbeddings.pretrained(\"sent_bert_muril\", \"xx\").setInputCols(\"sentence\").setOutputCol(\"bert_sentence\")"
   ]
  },
  {
   "cell_type": "code",
   "execution_count": 118,
   "metadata": {
    "executionInfo": {
     "elapsed": 14,
     "status": "ok",
     "timestamp": 1659602241196,
     "user": {
      "displayName": "Sarthak Rastogi",
      "userId": "13011506269675720653"
     },
     "user_tz": -330
    },
    "id": "PRwO9EZm26Dk"
   },
   "outputs": [],
   "source": [
    "#sent_embeddings()"
   ]
  },
  {
   "cell_type": "code",
   "execution_count": 119,
   "metadata": {
    "executionInfo": {
     "elapsed": 13,
     "status": "ok",
     "timestamp": 1659602241196,
     "user": {
      "displayName": "Sarthak Rastogi",
      "userId": "13011506269675720653"
     },
     "user_tz": -330
    },
    "id": "VVuKHeE5yYJI"
   },
   "outputs": [],
   "source": [
    "#nlp_pipeline = Pipeline(stages=[document_assembler, sentence_detector, sent_embeddings ])"
   ]
  },
  {
   "cell_type": "code",
   "execution_count": 119,
   "metadata": {
    "executionInfo": {
     "elapsed": 13,
     "status": "ok",
     "timestamp": 1659602241197,
     "user": {
      "displayName": "Sarthak Rastogi",
      "userId": "13011506269675720653"
     },
     "user_tz": -330
    },
    "id": "rr-9QP96xaTd"
   },
   "outputs": [],
   "source": []
  },
  {
   "cell_type": "code",
   "execution_count": 119,
   "metadata": {
    "executionInfo": {
     "elapsed": 13,
     "status": "ok",
     "timestamp": 1659602241198,
     "user": {
      "displayName": "Sarthak Rastogi",
      "userId": "13011506269675720653"
     },
     "user_tz": -330
    },
    "id": "WqQPQeFkxaQH"
   },
   "outputs": [],
   "source": []
  },
  {
   "cell_type": "code",
   "execution_count": 120,
   "metadata": {
    "executionInfo": {
     "elapsed": 7452,
     "status": "ok",
     "timestamp": 1659602248640,
     "user": {
      "displayName": "Sarthak Rastogi",
      "userId": "13011506269675720653"
     },
     "user_tz": -330
    },
    "id": "EoQritXN0td8"
   },
   "outputs": [],
   "source": [
    "%%capture\n",
    "!pip install sentence-transformers"
   ]
  },
  {
   "cell_type": "code",
   "execution_count": 121,
   "metadata": {
    "executionInfo": {
     "elapsed": 3027,
     "status": "ok",
     "timestamp": 1659602251637,
     "user": {
      "displayName": "Sarthak Rastogi",
      "userId": "13011506269675720653"
     },
     "user_tz": -330
    },
    "id": "zodL7Yk30td9"
   },
   "outputs": [],
   "source": [
    "%%capture\n",
    "from sentence_transformers import SentenceTransformer\n",
    "sbert_model = SentenceTransformer('distiluse-base-multilingual-cased-v2')#bert-base-nli-mean-tokens')"
   ]
  },
  {
   "cell_type": "code",
   "execution_count": 122,
   "metadata": {
    "executionInfo": {
     "elapsed": 28,
     "status": "ok",
     "timestamp": 1659602251639,
     "user": {
      "displayName": "Sarthak Rastogi",
      "userId": "13011506269675720653"
     },
     "user_tz": -330
    },
    "id": "k4-FThfllQTq"
   },
   "outputs": [],
   "source": [
    "#%%capture\n",
    "#!pip install transformers"
   ]
  },
  {
   "cell_type": "code",
   "execution_count": 123,
   "metadata": {
    "executionInfo": {
     "elapsed": 27,
     "status": "ok",
     "timestamp": 1659602251641,
     "user": {
      "displayName": "Sarthak Rastogi",
      "userId": "13011506269675720653"
     },
     "user_tz": -330
    },
    "id": "8sA5VQs0lPn0"
   },
   "outputs": [],
   "source": [
    "#from transformers import AutoModel\n",
    "#model = AutoModel.from_pretrained(\"ai4bharat/indic-bert\")"
   ]
  },
  {
   "cell_type": "code",
   "execution_count": 124,
   "metadata": {
    "colab": {
     "base_uri": "https://localhost:8080/"
    },
    "executionInfo": {
     "elapsed": 27,
     "status": "ok",
     "timestamp": 1659602251643,
     "user": {
      "displayName": "Sarthak Rastogi",
      "userId": "13011506269675720653"
     },
     "user_tz": -330
    },
    "id": "f09lceSHGzFg",
    "outputId": "83f8f2f4-1a75-4118-f796-7a8969370d26"
   },
   "outputs": [
    {
     "data": {
      "text/plain": [
       "237"
      ]
     },
     "execution_count": 124,
     "metadata": {},
     "output_type": "execute_result"
    }
   ],
   "source": [
    "sentences = df[\"manually_translated_hindi\"]\n",
    "len(sentences)"
   ]
  },
  {
   "cell_type": "code",
   "execution_count": 125,
   "metadata": {
    "executionInfo": {
     "elapsed": 15563,
     "status": "ok",
     "timestamp": 1659602267185,
     "user": {
      "displayName": "Sarthak Rastogi",
      "userId": "13011506269675720653"
     },
     "user_tz": -330
    },
    "id": "XnnatpTw0td9"
   },
   "outputs": [],
   "source": [
    "title_embeddings = sbert_model.encode(sentences)\n",
    "#7 secs for 200 sentences\n",
    "#16+ mins for 20k"
   ]
  },
  {
   "cell_type": "code",
   "execution_count": 126,
   "metadata": {
    "executionInfo": {
     "elapsed": 51,
     "status": "ok",
     "timestamp": 1659602267201,
     "user": {
      "displayName": "Sarthak Rastogi",
      "userId": "13011506269675720653"
     },
     "user_tz": -330
    },
    "id": "zR_22zrOIqNt"
   },
   "outputs": [],
   "source": [
    "df[\"embeddings\"] = title_embeddings.tolist()"
   ]
  },
  {
   "cell_type": "code",
   "execution_count": 127,
   "metadata": {
    "executionInfo": {
     "elapsed": 50,
     "status": "ok",
     "timestamp": 1659602267203,
     "user": {
      "displayName": "Sarthak Rastogi",
      "userId": "13011506269675720653"
     },
     "user_tz": -330
    },
    "id": "LbwvWbviKFB7"
   },
   "outputs": [],
   "source": [
    "split_df = pd.DataFrame(df['embeddings'].tolist())"
   ]
  },
  {
   "cell_type": "code",
   "execution_count": 128,
   "metadata": {
    "colab": {
     "base_uri": "https://localhost:8080/",
     "height": 488
    },
    "executionInfo": {
     "elapsed": 48,
     "status": "ok",
     "timestamp": 1659602267204,
     "user": {
      "displayName": "Sarthak Rastogi",
      "userId": "13011506269675720653"
     },
     "user_tz": -330
    },
    "id": "-elLEm6N4mvE",
    "outputId": "ef997a83-2af4-42be-ab0a-7a8868b42aed"
   },
   "outputs": [
    {
     "data": {
      "text/html": [
       "\n",
       "  <div id=\"df-2a1fce3e-14c4-4bf9-a93a-89275cd140cd\">\n",
       "    <div class=\"colab-df-container\">\n",
       "      <div>\n",
       "<style scoped>\n",
       "    .dataframe tbody tr th:only-of-type {\n",
       "        vertical-align: middle;\n",
       "    }\n",
       "\n",
       "    .dataframe tbody tr th {\n",
       "        vertical-align: top;\n",
       "    }\n",
       "\n",
       "    .dataframe thead th {\n",
       "        text-align: right;\n",
       "    }\n",
       "</style>\n",
       "<table border=\"1\" class=\"dataframe\">\n",
       "  <thead>\n",
       "    <tr style=\"text-align: right;\">\n",
       "      <th></th>\n",
       "      <th>0</th>\n",
       "      <th>1</th>\n",
       "      <th>2</th>\n",
       "      <th>3</th>\n",
       "      <th>4</th>\n",
       "      <th>5</th>\n",
       "      <th>6</th>\n",
       "      <th>7</th>\n",
       "      <th>8</th>\n",
       "      <th>9</th>\n",
       "      <th>...</th>\n",
       "      <th>502</th>\n",
       "      <th>503</th>\n",
       "      <th>504</th>\n",
       "      <th>505</th>\n",
       "      <th>506</th>\n",
       "      <th>507</th>\n",
       "      <th>508</th>\n",
       "      <th>509</th>\n",
       "      <th>510</th>\n",
       "      <th>511</th>\n",
       "    </tr>\n",
       "  </thead>\n",
       "  <tbody>\n",
       "    <tr>\n",
       "      <th>0</th>\n",
       "      <td>-0.025790</td>\n",
       "      <td>-0.031240</td>\n",
       "      <td>0.014151</td>\n",
       "      <td>0.011566</td>\n",
       "      <td>-0.050515</td>\n",
       "      <td>0.026118</td>\n",
       "      <td>0.002407</td>\n",
       "      <td>0.016235</td>\n",
       "      <td>0.018502</td>\n",
       "      <td>0.063142</td>\n",
       "      <td>...</td>\n",
       "      <td>-0.002802</td>\n",
       "      <td>0.001530</td>\n",
       "      <td>0.044891</td>\n",
       "      <td>-0.040755</td>\n",
       "      <td>0.021247</td>\n",
       "      <td>0.019635</td>\n",
       "      <td>0.016689</td>\n",
       "      <td>-0.004487</td>\n",
       "      <td>0.001639</td>\n",
       "      <td>0.039686</td>\n",
       "    </tr>\n",
       "    <tr>\n",
       "      <th>1</th>\n",
       "      <td>0.004274</td>\n",
       "      <td>-0.002293</td>\n",
       "      <td>0.006431</td>\n",
       "      <td>0.007926</td>\n",
       "      <td>-0.030170</td>\n",
       "      <td>-0.005818</td>\n",
       "      <td>-0.009912</td>\n",
       "      <td>0.015903</td>\n",
       "      <td>-0.030828</td>\n",
       "      <td>0.071091</td>\n",
       "      <td>...</td>\n",
       "      <td>-0.012784</td>\n",
       "      <td>0.013950</td>\n",
       "      <td>0.031070</td>\n",
       "      <td>-0.016678</td>\n",
       "      <td>0.022872</td>\n",
       "      <td>-0.009490</td>\n",
       "      <td>-0.044757</td>\n",
       "      <td>-0.039170</td>\n",
       "      <td>-0.004373</td>\n",
       "      <td>-0.004814</td>\n",
       "    </tr>\n",
       "    <tr>\n",
       "      <th>2</th>\n",
       "      <td>-0.010823</td>\n",
       "      <td>-0.026562</td>\n",
       "      <td>0.000221</td>\n",
       "      <td>-0.011665</td>\n",
       "      <td>-0.040837</td>\n",
       "      <td>-0.046347</td>\n",
       "      <td>-0.001730</td>\n",
       "      <td>-0.006837</td>\n",
       "      <td>0.000342</td>\n",
       "      <td>-0.045054</td>\n",
       "      <td>...</td>\n",
       "      <td>-0.012916</td>\n",
       "      <td>0.028561</td>\n",
       "      <td>0.006174</td>\n",
       "      <td>-0.011207</td>\n",
       "      <td>-0.010093</td>\n",
       "      <td>0.018822</td>\n",
       "      <td>0.000348</td>\n",
       "      <td>0.015430</td>\n",
       "      <td>-0.029235</td>\n",
       "      <td>0.001540</td>\n",
       "    </tr>\n",
       "    <tr>\n",
       "      <th>3</th>\n",
       "      <td>-0.006867</td>\n",
       "      <td>-0.045847</td>\n",
       "      <td>-0.005699</td>\n",
       "      <td>-0.002603</td>\n",
       "      <td>-0.066110</td>\n",
       "      <td>0.030698</td>\n",
       "      <td>-0.001158</td>\n",
       "      <td>-0.024844</td>\n",
       "      <td>-0.060985</td>\n",
       "      <td>-0.111249</td>\n",
       "      <td>...</td>\n",
       "      <td>-0.025141</td>\n",
       "      <td>0.007667</td>\n",
       "      <td>0.027613</td>\n",
       "      <td>-0.068182</td>\n",
       "      <td>0.008363</td>\n",
       "      <td>-0.004988</td>\n",
       "      <td>0.032274</td>\n",
       "      <td>-0.021151</td>\n",
       "      <td>-0.001550</td>\n",
       "      <td>-0.036625</td>\n",
       "    </tr>\n",
       "    <tr>\n",
       "      <th>4</th>\n",
       "      <td>-0.023855</td>\n",
       "      <td>-0.001197</td>\n",
       "      <td>0.013673</td>\n",
       "      <td>0.007836</td>\n",
       "      <td>-0.050959</td>\n",
       "      <td>-0.028017</td>\n",
       "      <td>-0.026709</td>\n",
       "      <td>-0.009765</td>\n",
       "      <td>-0.015251</td>\n",
       "      <td>0.075359</td>\n",
       "      <td>...</td>\n",
       "      <td>-0.030684</td>\n",
       "      <td>-0.034133</td>\n",
       "      <td>-0.008233</td>\n",
       "      <td>-0.011706</td>\n",
       "      <td>0.010247</td>\n",
       "      <td>0.046017</td>\n",
       "      <td>-0.059709</td>\n",
       "      <td>-0.006068</td>\n",
       "      <td>0.013821</td>\n",
       "      <td>-0.028077</td>\n",
       "    </tr>\n",
       "    <tr>\n",
       "      <th>...</th>\n",
       "      <td>...</td>\n",
       "      <td>...</td>\n",
       "      <td>...</td>\n",
       "      <td>...</td>\n",
       "      <td>...</td>\n",
       "      <td>...</td>\n",
       "      <td>...</td>\n",
       "      <td>...</td>\n",
       "      <td>...</td>\n",
       "      <td>...</td>\n",
       "      <td>...</td>\n",
       "      <td>...</td>\n",
       "      <td>...</td>\n",
       "      <td>...</td>\n",
       "      <td>...</td>\n",
       "      <td>...</td>\n",
       "      <td>...</td>\n",
       "      <td>...</td>\n",
       "      <td>...</td>\n",
       "      <td>...</td>\n",
       "      <td>...</td>\n",
       "    </tr>\n",
       "    <tr>\n",
       "      <th>232</th>\n",
       "      <td>0.032966</td>\n",
       "      <td>0.012899</td>\n",
       "      <td>-0.022092</td>\n",
       "      <td>0.007133</td>\n",
       "      <td>-0.063142</td>\n",
       "      <td>0.012842</td>\n",
       "      <td>-0.045452</td>\n",
       "      <td>-0.038490</td>\n",
       "      <td>-0.049112</td>\n",
       "      <td>-0.095431</td>\n",
       "      <td>...</td>\n",
       "      <td>-0.041279</td>\n",
       "      <td>-0.006466</td>\n",
       "      <td>0.009871</td>\n",
       "      <td>-0.036353</td>\n",
       "      <td>-0.021180</td>\n",
       "      <td>0.045069</td>\n",
       "      <td>-0.019030</td>\n",
       "      <td>-0.012118</td>\n",
       "      <td>-0.003931</td>\n",
       "      <td>-0.006557</td>\n",
       "    </tr>\n",
       "    <tr>\n",
       "      <th>233</th>\n",
       "      <td>-0.032911</td>\n",
       "      <td>-0.043971</td>\n",
       "      <td>-0.013824</td>\n",
       "      <td>0.005874</td>\n",
       "      <td>-0.066568</td>\n",
       "      <td>0.013346</td>\n",
       "      <td>-0.044526</td>\n",
       "      <td>-0.021544</td>\n",
       "      <td>0.001221</td>\n",
       "      <td>0.009597</td>\n",
       "      <td>...</td>\n",
       "      <td>-0.006276</td>\n",
       "      <td>-0.034514</td>\n",
       "      <td>0.064515</td>\n",
       "      <td>-0.046994</td>\n",
       "      <td>0.013840</td>\n",
       "      <td>0.035441</td>\n",
       "      <td>-0.030915</td>\n",
       "      <td>-0.029846</td>\n",
       "      <td>-0.016360</td>\n",
       "      <td>0.023673</td>\n",
       "    </tr>\n",
       "    <tr>\n",
       "      <th>234</th>\n",
       "      <td>0.027872</td>\n",
       "      <td>-0.008575</td>\n",
       "      <td>0.010736</td>\n",
       "      <td>0.005021</td>\n",
       "      <td>-0.061363</td>\n",
       "      <td>-0.017652</td>\n",
       "      <td>-0.004742</td>\n",
       "      <td>0.067996</td>\n",
       "      <td>0.007561</td>\n",
       "      <td>-0.114259</td>\n",
       "      <td>...</td>\n",
       "      <td>-0.012169</td>\n",
       "      <td>-0.026700</td>\n",
       "      <td>0.011780</td>\n",
       "      <td>-0.012726</td>\n",
       "      <td>-0.053500</td>\n",
       "      <td>0.038418</td>\n",
       "      <td>0.009961</td>\n",
       "      <td>0.014944</td>\n",
       "      <td>-0.003744</td>\n",
       "      <td>0.013121</td>\n",
       "    </tr>\n",
       "    <tr>\n",
       "      <th>235</th>\n",
       "      <td>0.004278</td>\n",
       "      <td>0.044048</td>\n",
       "      <td>0.003260</td>\n",
       "      <td>0.012375</td>\n",
       "      <td>-0.020970</td>\n",
       "      <td>0.014618</td>\n",
       "      <td>0.029832</td>\n",
       "      <td>0.063552</td>\n",
       "      <td>-0.044062</td>\n",
       "      <td>0.111024</td>\n",
       "      <td>...</td>\n",
       "      <td>0.123476</td>\n",
       "      <td>0.004144</td>\n",
       "      <td>0.047869</td>\n",
       "      <td>0.018385</td>\n",
       "      <td>0.012857</td>\n",
       "      <td>-0.038240</td>\n",
       "      <td>-0.035166</td>\n",
       "      <td>-0.005938</td>\n",
       "      <td>-0.000794</td>\n",
       "      <td>0.011078</td>\n",
       "    </tr>\n",
       "    <tr>\n",
       "      <th>236</th>\n",
       "      <td>0.005047</td>\n",
       "      <td>0.025038</td>\n",
       "      <td>0.000581</td>\n",
       "      <td>0.033386</td>\n",
       "      <td>-0.022295</td>\n",
       "      <td>-0.032023</td>\n",
       "      <td>0.043143</td>\n",
       "      <td>-0.000909</td>\n",
       "      <td>-0.062114</td>\n",
       "      <td>0.141554</td>\n",
       "      <td>...</td>\n",
       "      <td>-0.003030</td>\n",
       "      <td>0.002587</td>\n",
       "      <td>0.041508</td>\n",
       "      <td>-0.036957</td>\n",
       "      <td>0.010356</td>\n",
       "      <td>0.028458</td>\n",
       "      <td>0.024989</td>\n",
       "      <td>-0.006206</td>\n",
       "      <td>-0.003956</td>\n",
       "      <td>-0.050140</td>\n",
       "    </tr>\n",
       "  </tbody>\n",
       "</table>\n",
       "<p>237 rows × 512 columns</p>\n",
       "</div>\n",
       "      <button class=\"colab-df-convert\" onclick=\"convertToInteractive('df-2a1fce3e-14c4-4bf9-a93a-89275cd140cd')\"\n",
       "              title=\"Convert this dataframe to an interactive table.\"\n",
       "              style=\"display:none;\">\n",
       "        \n",
       "  <svg xmlns=\"http://www.w3.org/2000/svg\" height=\"24px\"viewBox=\"0 0 24 24\"\n",
       "       width=\"24px\">\n",
       "    <path d=\"M0 0h24v24H0V0z\" fill=\"none\"/>\n",
       "    <path d=\"M18.56 5.44l.94 2.06.94-2.06 2.06-.94-2.06-.94-.94-2.06-.94 2.06-2.06.94zm-11 1L8.5 8.5l.94-2.06 2.06-.94-2.06-.94L8.5 2.5l-.94 2.06-2.06.94zm10 10l.94 2.06.94-2.06 2.06-.94-2.06-.94-.94-2.06-.94 2.06-2.06.94z\"/><path d=\"M17.41 7.96l-1.37-1.37c-.4-.4-.92-.59-1.43-.59-.52 0-1.04.2-1.43.59L10.3 9.45l-7.72 7.72c-.78.78-.78 2.05 0 2.83L4 21.41c.39.39.9.59 1.41.59.51 0 1.02-.2 1.41-.59l7.78-7.78 2.81-2.81c.8-.78.8-2.07 0-2.86zM5.41 20L4 18.59l7.72-7.72 1.47 1.35L5.41 20z\"/>\n",
       "  </svg>\n",
       "      </button>\n",
       "      \n",
       "  <style>\n",
       "    .colab-df-container {\n",
       "      display:flex;\n",
       "      flex-wrap:wrap;\n",
       "      gap: 12px;\n",
       "    }\n",
       "\n",
       "    .colab-df-convert {\n",
       "      background-color: #E8F0FE;\n",
       "      border: none;\n",
       "      border-radius: 50%;\n",
       "      cursor: pointer;\n",
       "      display: none;\n",
       "      fill: #1967D2;\n",
       "      height: 32px;\n",
       "      padding: 0 0 0 0;\n",
       "      width: 32px;\n",
       "    }\n",
       "\n",
       "    .colab-df-convert:hover {\n",
       "      background-color: #E2EBFA;\n",
       "      box-shadow: 0px 1px 2px rgba(60, 64, 67, 0.3), 0px 1px 3px 1px rgba(60, 64, 67, 0.15);\n",
       "      fill: #174EA6;\n",
       "    }\n",
       "\n",
       "    [theme=dark] .colab-df-convert {\n",
       "      background-color: #3B4455;\n",
       "      fill: #D2E3FC;\n",
       "    }\n",
       "\n",
       "    [theme=dark] .colab-df-convert:hover {\n",
       "      background-color: #434B5C;\n",
       "      box-shadow: 0px 1px 3px 1px rgba(0, 0, 0, 0.15);\n",
       "      filter: drop-shadow(0px 1px 2px rgba(0, 0, 0, 0.3));\n",
       "      fill: #FFFFFF;\n",
       "    }\n",
       "  </style>\n",
       "\n",
       "      <script>\n",
       "        const buttonEl =\n",
       "          document.querySelector('#df-2a1fce3e-14c4-4bf9-a93a-89275cd140cd button.colab-df-convert');\n",
       "        buttonEl.style.display =\n",
       "          google.colab.kernel.accessAllowed ? 'block' : 'none';\n",
       "\n",
       "        async function convertToInteractive(key) {\n",
       "          const element = document.querySelector('#df-2a1fce3e-14c4-4bf9-a93a-89275cd140cd');\n",
       "          const dataTable =\n",
       "            await google.colab.kernel.invokeFunction('convertToInteractive',\n",
       "                                                     [key], {});\n",
       "          if (!dataTable) return;\n",
       "\n",
       "          const docLinkHtml = 'Like what you see? Visit the ' +\n",
       "            '<a target=\"_blank\" href=https://colab.research.google.com/notebooks/data_table.ipynb>data table notebook</a>'\n",
       "            + ' to learn more about interactive tables.';\n",
       "          element.innerHTML = '';\n",
       "          dataTable['output_type'] = 'display_data';\n",
       "          await google.colab.output.renderOutput(dataTable, element);\n",
       "          const docLink = document.createElement('div');\n",
       "          docLink.innerHTML = docLinkHtml;\n",
       "          element.appendChild(docLink);\n",
       "        }\n",
       "      </script>\n",
       "    </div>\n",
       "  </div>\n",
       "  "
      ],
      "text/plain": [
       "          0         1         2         3         4         5         6    \\\n",
       "0   -0.025790 -0.031240  0.014151  0.011566 -0.050515  0.026118  0.002407   \n",
       "1    0.004274 -0.002293  0.006431  0.007926 -0.030170 -0.005818 -0.009912   \n",
       "2   -0.010823 -0.026562  0.000221 -0.011665 -0.040837 -0.046347 -0.001730   \n",
       "3   -0.006867 -0.045847 -0.005699 -0.002603 -0.066110  0.030698 -0.001158   \n",
       "4   -0.023855 -0.001197  0.013673  0.007836 -0.050959 -0.028017 -0.026709   \n",
       "..        ...       ...       ...       ...       ...       ...       ...   \n",
       "232  0.032966  0.012899 -0.022092  0.007133 -0.063142  0.012842 -0.045452   \n",
       "233 -0.032911 -0.043971 -0.013824  0.005874 -0.066568  0.013346 -0.044526   \n",
       "234  0.027872 -0.008575  0.010736  0.005021 -0.061363 -0.017652 -0.004742   \n",
       "235  0.004278  0.044048  0.003260  0.012375 -0.020970  0.014618  0.029832   \n",
       "236  0.005047  0.025038  0.000581  0.033386 -0.022295 -0.032023  0.043143   \n",
       "\n",
       "          7         8         9    ...       502       503       504  \\\n",
       "0    0.016235  0.018502  0.063142  ... -0.002802  0.001530  0.044891   \n",
       "1    0.015903 -0.030828  0.071091  ... -0.012784  0.013950  0.031070   \n",
       "2   -0.006837  0.000342 -0.045054  ... -0.012916  0.028561  0.006174   \n",
       "3   -0.024844 -0.060985 -0.111249  ... -0.025141  0.007667  0.027613   \n",
       "4   -0.009765 -0.015251  0.075359  ... -0.030684 -0.034133 -0.008233   \n",
       "..        ...       ...       ...  ...       ...       ...       ...   \n",
       "232 -0.038490 -0.049112 -0.095431  ... -0.041279 -0.006466  0.009871   \n",
       "233 -0.021544  0.001221  0.009597  ... -0.006276 -0.034514  0.064515   \n",
       "234  0.067996  0.007561 -0.114259  ... -0.012169 -0.026700  0.011780   \n",
       "235  0.063552 -0.044062  0.111024  ...  0.123476  0.004144  0.047869   \n",
       "236 -0.000909 -0.062114  0.141554  ... -0.003030  0.002587  0.041508   \n",
       "\n",
       "          505       506       507       508       509       510       511  \n",
       "0   -0.040755  0.021247  0.019635  0.016689 -0.004487  0.001639  0.039686  \n",
       "1   -0.016678  0.022872 -0.009490 -0.044757 -0.039170 -0.004373 -0.004814  \n",
       "2   -0.011207 -0.010093  0.018822  0.000348  0.015430 -0.029235  0.001540  \n",
       "3   -0.068182  0.008363 -0.004988  0.032274 -0.021151 -0.001550 -0.036625  \n",
       "4   -0.011706  0.010247  0.046017 -0.059709 -0.006068  0.013821 -0.028077  \n",
       "..        ...       ...       ...       ...       ...       ...       ...  \n",
       "232 -0.036353 -0.021180  0.045069 -0.019030 -0.012118 -0.003931 -0.006557  \n",
       "233 -0.046994  0.013840  0.035441 -0.030915 -0.029846 -0.016360  0.023673  \n",
       "234 -0.012726 -0.053500  0.038418  0.009961  0.014944 -0.003744  0.013121  \n",
       "235  0.018385  0.012857 -0.038240 -0.035166 -0.005938 -0.000794  0.011078  \n",
       "236 -0.036957  0.010356  0.028458  0.024989 -0.006206 -0.003956 -0.050140  \n",
       "\n",
       "[237 rows x 512 columns]"
      ]
     },
     "execution_count": 128,
     "metadata": {},
     "output_type": "execute_result"
    }
   ],
   "source": [
    "split_df"
   ]
  },
  {
   "cell_type": "markdown",
   "metadata": {
    "id": "2tLzh4FCdmPK"
   },
   "source": [
    "UMAP uses a predefined distance function as a similarity measure. It tries to preserve the distances between points in lower-dimensional space. This makes it perfect for SentenceBERT embedding as the model has a CosineLoss baked in."
   ]
  },
  {
   "cell_type": "code",
   "execution_count": 129,
   "metadata": {
    "colab": {
     "base_uri": "https://localhost:8080/",
     "height": 36
    },
    "executionInfo": {
     "elapsed": 42,
     "status": "ok",
     "timestamp": 1659602267206,
     "user": {
      "displayName": "Sarthak Rastogi",
      "userId": "13011506269675720653"
     },
     "user_tz": -330
    },
    "id": "2ZrrgeKbegjB",
    "outputId": "a4bfbe3d-a71d-4e37-e6c5-7b7b651cf909"
   },
   "outputs": [
    {
     "data": {
      "application/vnd.google.colaboratory.intrinsic+json": {
       "type": "string"
      },
      "text/plain": [
       "'%%capture\\n!pip install umap-learn '"
      ]
     },
     "execution_count": 129,
     "metadata": {},
     "output_type": "execute_result"
    }
   ],
   "source": [
    "'''%%capture\n",
    "!pip install umap-learn '''"
   ]
  },
  {
   "cell_type": "code",
   "execution_count": 130,
   "metadata": {
    "colab": {
     "base_uri": "https://localhost:8080/",
     "height": 36
    },
    "executionInfo": {
     "elapsed": 41,
     "status": "ok",
     "timestamp": 1659602267208,
     "user": {
      "displayName": "Sarthak Rastogi",
      "userId": "13011506269675720653"
     },
     "user_tz": -330
    },
    "id": "Wden8uc5eNNu",
    "outputId": "6447d41f-e07d-41cb-c21f-9f268e10123d"
   },
   "outputs": [
    {
     "data": {
      "application/vnd.google.colaboratory.intrinsic+json": {
       "type": "string"
      },
      "text/plain": [
       "'import umap\\nreducer = umap.UMAP()\\n\\numap_embedding = reducer.fit_transform(split_df)\\numap_embedding.shape'"
      ]
     },
     "execution_count": 130,
     "metadata": {},
     "output_type": "execute_result"
    }
   ],
   "source": [
    "'''import umap\n",
    "reducer = umap.UMAP()\n",
    "\n",
    "umap_embedding = reducer.fit_transform(split_df)\n",
    "umap_embedding.shape'''"
   ]
  },
  {
   "cell_type": "code",
   "execution_count": 131,
   "metadata": {
    "executionInfo": {
     "elapsed": 1005,
     "status": "ok",
     "timestamp": 1659602268177,
     "user": {
      "displayName": "Sarthak Rastogi",
      "userId": "13011506269675720653"
     },
     "user_tz": -330
    },
    "id": "mKM8yvxQeNFv"
   },
   "outputs": [],
   "source": [
    "from sklearn.decomposition import PCA\n",
    "\n",
    "pca = PCA(n_components=32)\n",
    "pca.fit(split_df)\n",
    "split_df_32 = pca.transform(split_df)"
   ]
  },
  {
   "cell_type": "code",
   "execution_count": 132,
   "metadata": {
    "executionInfo": {
     "elapsed": 36,
     "status": "ok",
     "timestamp": 1659602268179,
     "user": {
      "displayName": "Sarthak Rastogi",
      "userId": "13011506269675720653"
     },
     "user_tz": -330
    },
    "id": "BZ-A_WmgdEOx"
   },
   "outputs": [],
   "source": [
    "split_df_32 = pd.DataFrame(split_df_32)"
   ]
  },
  {
   "cell_type": "code",
   "execution_count": 133,
   "metadata": {
    "executionInfo": {
     "elapsed": 34,
     "status": "ok",
     "timestamp": 1659602268181,
     "user": {
      "displayName": "Sarthak Rastogi",
      "userId": "13011506269675720653"
     },
     "user_tz": -330
    },
    "id": "A-_vJa1OgTLT"
   },
   "outputs": [],
   "source": [
    "df = df.join(split_df_32)\n",
    "df.drop([\"manually_translated_hindi\", \"embeddings\"], axis=1, inplace=True)"
   ]
  },
  {
   "cell_type": "code",
   "execution_count": 134,
   "metadata": {
    "colab": {
     "base_uri": "https://localhost:8080/",
     "height": 488
    },
    "executionInfo": {
     "elapsed": 32,
     "status": "ok",
     "timestamp": 1659602268182,
     "user": {
      "displayName": "Sarthak Rastogi",
      "userId": "13011506269675720653"
     },
     "user_tz": -330
    },
    "id": "dIB4yJNF4rIN",
    "outputId": "c20861da-d05d-49c9-b483-115ac29d7154"
   },
   "outputs": [
    {
     "data": {
      "text/html": [
       "\n",
       "  <div id=\"df-58076498-10e8-4837-a7ef-72c4a80cfa76\">\n",
       "    <div class=\"colab-df-container\">\n",
       "      <div>\n",
       "<style scoped>\n",
       "    .dataframe tbody tr th:only-of-type {\n",
       "        vertical-align: middle;\n",
       "    }\n",
       "\n",
       "    .dataframe tbody tr th {\n",
       "        vertical-align: top;\n",
       "    }\n",
       "\n",
       "    .dataframe thead th {\n",
       "        text-align: right;\n",
       "    }\n",
       "</style>\n",
       "<table border=\"1\" class=\"dataframe\">\n",
       "  <thead>\n",
       "    <tr style=\"text-align: right;\">\n",
       "      <th></th>\n",
       "      <th>Label</th>\n",
       "      <th>L</th>\n",
       "      <th>0</th>\n",
       "      <th>1</th>\n",
       "      <th>2</th>\n",
       "      <th>3</th>\n",
       "      <th>4</th>\n",
       "      <th>5</th>\n",
       "      <th>6</th>\n",
       "      <th>7</th>\n",
       "      <th>...</th>\n",
       "      <th>22</th>\n",
       "      <th>23</th>\n",
       "      <th>24</th>\n",
       "      <th>25</th>\n",
       "      <th>26</th>\n",
       "      <th>27</th>\n",
       "      <th>28</th>\n",
       "      <th>29</th>\n",
       "      <th>30</th>\n",
       "      <th>31</th>\n",
       "    </tr>\n",
       "  </thead>\n",
       "  <tbody>\n",
       "    <tr>\n",
       "      <th>0</th>\n",
       "      <td>Other</td>\n",
       "      <td>2.0</td>\n",
       "      <td>0.072486</td>\n",
       "      <td>0.000240</td>\n",
       "      <td>-0.004098</td>\n",
       "      <td>-0.126902</td>\n",
       "      <td>-0.021958</td>\n",
       "      <td>0.064858</td>\n",
       "      <td>0.003803</td>\n",
       "      <td>0.063781</td>\n",
       "      <td>...</td>\n",
       "      <td>0.016568</td>\n",
       "      <td>-0.110176</td>\n",
       "      <td>-0.002603</td>\n",
       "      <td>0.043979</td>\n",
       "      <td>-0.034690</td>\n",
       "      <td>0.022817</td>\n",
       "      <td>-0.040245</td>\n",
       "      <td>-0.053900</td>\n",
       "      <td>0.009172</td>\n",
       "      <td>0.005099</td>\n",
       "    </tr>\n",
       "    <tr>\n",
       "      <th>1</th>\n",
       "      <td>Disease</td>\n",
       "      <td>0.0</td>\n",
       "      <td>0.119010</td>\n",
       "      <td>-0.030077</td>\n",
       "      <td>-0.078106</td>\n",
       "      <td>0.012318</td>\n",
       "      <td>-0.050165</td>\n",
       "      <td>-0.080790</td>\n",
       "      <td>0.074567</td>\n",
       "      <td>-0.000021</td>\n",
       "      <td>...</td>\n",
       "      <td>-0.052118</td>\n",
       "      <td>0.039016</td>\n",
       "      <td>-0.028220</td>\n",
       "      <td>0.001297</td>\n",
       "      <td>-0.000227</td>\n",
       "      <td>-0.029726</td>\n",
       "      <td>-0.029355</td>\n",
       "      <td>0.030377</td>\n",
       "      <td>-0.088298</td>\n",
       "      <td>-0.016502</td>\n",
       "    </tr>\n",
       "    <tr>\n",
       "      <th>2</th>\n",
       "      <td>Disease</td>\n",
       "      <td>0.0</td>\n",
       "      <td>-0.070066</td>\n",
       "      <td>0.032851</td>\n",
       "      <td>0.037144</td>\n",
       "      <td>-0.087974</td>\n",
       "      <td>-0.106349</td>\n",
       "      <td>0.100469</td>\n",
       "      <td>-0.021147</td>\n",
       "      <td>-0.059109</td>\n",
       "      <td>...</td>\n",
       "      <td>0.051461</td>\n",
       "      <td>0.010076</td>\n",
       "      <td>0.060595</td>\n",
       "      <td>0.172628</td>\n",
       "      <td>-0.034391</td>\n",
       "      <td>-0.033215</td>\n",
       "      <td>0.066284</td>\n",
       "      <td>0.004242</td>\n",
       "      <td>0.008450</td>\n",
       "      <td>0.063859</td>\n",
       "    </tr>\n",
       "    <tr>\n",
       "      <th>3</th>\n",
       "      <td>Drug</td>\n",
       "      <td>1.0</td>\n",
       "      <td>-0.184985</td>\n",
       "      <td>-0.259077</td>\n",
       "      <td>-0.135021</td>\n",
       "      <td>0.120531</td>\n",
       "      <td>0.059713</td>\n",
       "      <td>-0.062565</td>\n",
       "      <td>0.084242</td>\n",
       "      <td>0.213166</td>\n",
       "      <td>...</td>\n",
       "      <td>0.022254</td>\n",
       "      <td>-0.041332</td>\n",
       "      <td>0.015025</td>\n",
       "      <td>-0.106033</td>\n",
       "      <td>0.016574</td>\n",
       "      <td>-0.042558</td>\n",
       "      <td>0.054139</td>\n",
       "      <td>-0.156296</td>\n",
       "      <td>0.043210</td>\n",
       "      <td>-0.015071</td>\n",
       "    </tr>\n",
       "    <tr>\n",
       "      <th>4</th>\n",
       "      <td>Disease</td>\n",
       "      <td>0.0</td>\n",
       "      <td>0.156783</td>\n",
       "      <td>0.042057</td>\n",
       "      <td>-0.097449</td>\n",
       "      <td>-0.094851</td>\n",
       "      <td>-0.209433</td>\n",
       "      <td>0.121015</td>\n",
       "      <td>-0.067493</td>\n",
       "      <td>0.153687</td>\n",
       "      <td>...</td>\n",
       "      <td>0.073441</td>\n",
       "      <td>0.020415</td>\n",
       "      <td>-0.030133</td>\n",
       "      <td>-0.006428</td>\n",
       "      <td>0.027332</td>\n",
       "      <td>0.110127</td>\n",
       "      <td>-0.085280</td>\n",
       "      <td>0.111498</td>\n",
       "      <td>-0.014845</td>\n",
       "      <td>-0.047135</td>\n",
       "    </tr>\n",
       "    <tr>\n",
       "      <th>...</th>\n",
       "      <td>...</td>\n",
       "      <td>...</td>\n",
       "      <td>...</td>\n",
       "      <td>...</td>\n",
       "      <td>...</td>\n",
       "      <td>...</td>\n",
       "      <td>...</td>\n",
       "      <td>...</td>\n",
       "      <td>...</td>\n",
       "      <td>...</td>\n",
       "      <td>...</td>\n",
       "      <td>...</td>\n",
       "      <td>...</td>\n",
       "      <td>...</td>\n",
       "      <td>...</td>\n",
       "      <td>...</td>\n",
       "      <td>...</td>\n",
       "      <td>...</td>\n",
       "      <td>...</td>\n",
       "      <td>...</td>\n",
       "      <td>...</td>\n",
       "    </tr>\n",
       "    <tr>\n",
       "      <th>232</th>\n",
       "      <td>Treatment</td>\n",
       "      <td>3.0</td>\n",
       "      <td>-0.267835</td>\n",
       "      <td>-0.258083</td>\n",
       "      <td>0.008070</td>\n",
       "      <td>-0.033937</td>\n",
       "      <td>0.112359</td>\n",
       "      <td>-0.090215</td>\n",
       "      <td>0.087896</td>\n",
       "      <td>0.138282</td>\n",
       "      <td>...</td>\n",
       "      <td>-0.073115</td>\n",
       "      <td>-0.045910</td>\n",
       "      <td>0.000180</td>\n",
       "      <td>-0.026866</td>\n",
       "      <td>0.033683</td>\n",
       "      <td>-0.003449</td>\n",
       "      <td>0.045210</td>\n",
       "      <td>-0.031737</td>\n",
       "      <td>-0.025112</td>\n",
       "      <td>0.094655</td>\n",
       "    </tr>\n",
       "    <tr>\n",
       "      <th>233</th>\n",
       "      <td>Treatment</td>\n",
       "      <td>3.0</td>\n",
       "      <td>-0.048973</td>\n",
       "      <td>-0.027858</td>\n",
       "      <td>-0.016536</td>\n",
       "      <td>-0.138771</td>\n",
       "      <td>-0.042490</td>\n",
       "      <td>-0.054142</td>\n",
       "      <td>0.069973</td>\n",
       "      <td>-0.018406</td>\n",
       "      <td>...</td>\n",
       "      <td>0.016914</td>\n",
       "      <td>-0.078891</td>\n",
       "      <td>0.093286</td>\n",
       "      <td>0.072452</td>\n",
       "      <td>-0.120473</td>\n",
       "      <td>0.026516</td>\n",
       "      <td>0.012172</td>\n",
       "      <td>-0.079257</td>\n",
       "      <td>-0.053289</td>\n",
       "      <td>-0.018145</td>\n",
       "    </tr>\n",
       "    <tr>\n",
       "      <th>234</th>\n",
       "      <td>Treatment</td>\n",
       "      <td>3.0</td>\n",
       "      <td>-0.225683</td>\n",
       "      <td>-0.042007</td>\n",
       "      <td>0.049681</td>\n",
       "      <td>-0.097173</td>\n",
       "      <td>0.032431</td>\n",
       "      <td>-0.016417</td>\n",
       "      <td>0.000849</td>\n",
       "      <td>-0.014625</td>\n",
       "      <td>...</td>\n",
       "      <td>-0.102479</td>\n",
       "      <td>-0.019489</td>\n",
       "      <td>0.133210</td>\n",
       "      <td>-0.116215</td>\n",
       "      <td>-0.038889</td>\n",
       "      <td>0.151991</td>\n",
       "      <td>-0.147943</td>\n",
       "      <td>0.013299</td>\n",
       "      <td>-0.074997</td>\n",
       "      <td>-0.026430</td>\n",
       "    </tr>\n",
       "    <tr>\n",
       "      <th>235</th>\n",
       "      <td>Treatment</td>\n",
       "      <td>3.0</td>\n",
       "      <td>0.148338</td>\n",
       "      <td>0.193006</td>\n",
       "      <td>0.016603</td>\n",
       "      <td>0.096955</td>\n",
       "      <td>0.186935</td>\n",
       "      <td>0.013416</td>\n",
       "      <td>0.057317</td>\n",
       "      <td>-0.087790</td>\n",
       "      <td>...</td>\n",
       "      <td>0.000590</td>\n",
       "      <td>0.151953</td>\n",
       "      <td>0.115667</td>\n",
       "      <td>0.056416</td>\n",
       "      <td>0.038972</td>\n",
       "      <td>0.158752</td>\n",
       "      <td>0.062951</td>\n",
       "      <td>0.029513</td>\n",
       "      <td>0.047907</td>\n",
       "      <td>0.048659</td>\n",
       "    </tr>\n",
       "    <tr>\n",
       "      <th>236</th>\n",
       "      <td>Treatment</td>\n",
       "      <td>3.0</td>\n",
       "      <td>0.249119</td>\n",
       "      <td>0.169346</td>\n",
       "      <td>-0.095952</td>\n",
       "      <td>-0.023222</td>\n",
       "      <td>0.193670</td>\n",
       "      <td>0.019940</td>\n",
       "      <td>-0.036049</td>\n",
       "      <td>-0.070484</td>\n",
       "      <td>...</td>\n",
       "      <td>0.012517</td>\n",
       "      <td>0.016850</td>\n",
       "      <td>0.054219</td>\n",
       "      <td>0.020620</td>\n",
       "      <td>-0.032010</td>\n",
       "      <td>-0.041517</td>\n",
       "      <td>0.033516</td>\n",
       "      <td>-0.024260</td>\n",
       "      <td>0.015738</td>\n",
       "      <td>0.046038</td>\n",
       "    </tr>\n",
       "  </tbody>\n",
       "</table>\n",
       "<p>237 rows × 34 columns</p>\n",
       "</div>\n",
       "      <button class=\"colab-df-convert\" onclick=\"convertToInteractive('df-58076498-10e8-4837-a7ef-72c4a80cfa76')\"\n",
       "              title=\"Convert this dataframe to an interactive table.\"\n",
       "              style=\"display:none;\">\n",
       "        \n",
       "  <svg xmlns=\"http://www.w3.org/2000/svg\" height=\"24px\"viewBox=\"0 0 24 24\"\n",
       "       width=\"24px\">\n",
       "    <path d=\"M0 0h24v24H0V0z\" fill=\"none\"/>\n",
       "    <path d=\"M18.56 5.44l.94 2.06.94-2.06 2.06-.94-2.06-.94-.94-2.06-.94 2.06-2.06.94zm-11 1L8.5 8.5l.94-2.06 2.06-.94-2.06-.94L8.5 2.5l-.94 2.06-2.06.94zm10 10l.94 2.06.94-2.06 2.06-.94-2.06-.94-.94-2.06-.94 2.06-2.06.94z\"/><path d=\"M17.41 7.96l-1.37-1.37c-.4-.4-.92-.59-1.43-.59-.52 0-1.04.2-1.43.59L10.3 9.45l-7.72 7.72c-.78.78-.78 2.05 0 2.83L4 21.41c.39.39.9.59 1.41.59.51 0 1.02-.2 1.41-.59l7.78-7.78 2.81-2.81c.8-.78.8-2.07 0-2.86zM5.41 20L4 18.59l7.72-7.72 1.47 1.35L5.41 20z\"/>\n",
       "  </svg>\n",
       "      </button>\n",
       "      \n",
       "  <style>\n",
       "    .colab-df-container {\n",
       "      display:flex;\n",
       "      flex-wrap:wrap;\n",
       "      gap: 12px;\n",
       "    }\n",
       "\n",
       "    .colab-df-convert {\n",
       "      background-color: #E8F0FE;\n",
       "      border: none;\n",
       "      border-radius: 50%;\n",
       "      cursor: pointer;\n",
       "      display: none;\n",
       "      fill: #1967D2;\n",
       "      height: 32px;\n",
       "      padding: 0 0 0 0;\n",
       "      width: 32px;\n",
       "    }\n",
       "\n",
       "    .colab-df-convert:hover {\n",
       "      background-color: #E2EBFA;\n",
       "      box-shadow: 0px 1px 2px rgba(60, 64, 67, 0.3), 0px 1px 3px 1px rgba(60, 64, 67, 0.15);\n",
       "      fill: #174EA6;\n",
       "    }\n",
       "\n",
       "    [theme=dark] .colab-df-convert {\n",
       "      background-color: #3B4455;\n",
       "      fill: #D2E3FC;\n",
       "    }\n",
       "\n",
       "    [theme=dark] .colab-df-convert:hover {\n",
       "      background-color: #434B5C;\n",
       "      box-shadow: 0px 1px 3px 1px rgba(0, 0, 0, 0.15);\n",
       "      filter: drop-shadow(0px 1px 2px rgba(0, 0, 0, 0.3));\n",
       "      fill: #FFFFFF;\n",
       "    }\n",
       "  </style>\n",
       "\n",
       "      <script>\n",
       "        const buttonEl =\n",
       "          document.querySelector('#df-58076498-10e8-4837-a7ef-72c4a80cfa76 button.colab-df-convert');\n",
       "        buttonEl.style.display =\n",
       "          google.colab.kernel.accessAllowed ? 'block' : 'none';\n",
       "\n",
       "        async function convertToInteractive(key) {\n",
       "          const element = document.querySelector('#df-58076498-10e8-4837-a7ef-72c4a80cfa76');\n",
       "          const dataTable =\n",
       "            await google.colab.kernel.invokeFunction('convertToInteractive',\n",
       "                                                     [key], {});\n",
       "          if (!dataTable) return;\n",
       "\n",
       "          const docLinkHtml = 'Like what you see? Visit the ' +\n",
       "            '<a target=\"_blank\" href=https://colab.research.google.com/notebooks/data_table.ipynb>data table notebook</a>'\n",
       "            + ' to learn more about interactive tables.';\n",
       "          element.innerHTML = '';\n",
       "          dataTable['output_type'] = 'display_data';\n",
       "          await google.colab.output.renderOutput(dataTable, element);\n",
       "          const docLink = document.createElement('div');\n",
       "          docLink.innerHTML = docLinkHtml;\n",
       "          element.appendChild(docLink);\n",
       "        }\n",
       "      </script>\n",
       "    </div>\n",
       "  </div>\n",
       "  "
      ],
      "text/plain": [
       "         Label    L         0         1         2         3         4  \\\n",
       "0        Other  2.0  0.072486  0.000240 -0.004098 -0.126902 -0.021958   \n",
       "1      Disease  0.0  0.119010 -0.030077 -0.078106  0.012318 -0.050165   \n",
       "2      Disease  0.0 -0.070066  0.032851  0.037144 -0.087974 -0.106349   \n",
       "3         Drug  1.0 -0.184985 -0.259077 -0.135021  0.120531  0.059713   \n",
       "4      Disease  0.0  0.156783  0.042057 -0.097449 -0.094851 -0.209433   \n",
       "..         ...  ...       ...       ...       ...       ...       ...   \n",
       "232  Treatment  3.0 -0.267835 -0.258083  0.008070 -0.033937  0.112359   \n",
       "233  Treatment  3.0 -0.048973 -0.027858 -0.016536 -0.138771 -0.042490   \n",
       "234  Treatment  3.0 -0.225683 -0.042007  0.049681 -0.097173  0.032431   \n",
       "235  Treatment  3.0  0.148338  0.193006  0.016603  0.096955  0.186935   \n",
       "236  Treatment  3.0  0.249119  0.169346 -0.095952 -0.023222  0.193670   \n",
       "\n",
       "            5         6         7  ...        22        23        24  \\\n",
       "0    0.064858  0.003803  0.063781  ...  0.016568 -0.110176 -0.002603   \n",
       "1   -0.080790  0.074567 -0.000021  ... -0.052118  0.039016 -0.028220   \n",
       "2    0.100469 -0.021147 -0.059109  ...  0.051461  0.010076  0.060595   \n",
       "3   -0.062565  0.084242  0.213166  ...  0.022254 -0.041332  0.015025   \n",
       "4    0.121015 -0.067493  0.153687  ...  0.073441  0.020415 -0.030133   \n",
       "..        ...       ...       ...  ...       ...       ...       ...   \n",
       "232 -0.090215  0.087896  0.138282  ... -0.073115 -0.045910  0.000180   \n",
       "233 -0.054142  0.069973 -0.018406  ...  0.016914 -0.078891  0.093286   \n",
       "234 -0.016417  0.000849 -0.014625  ... -0.102479 -0.019489  0.133210   \n",
       "235  0.013416  0.057317 -0.087790  ...  0.000590  0.151953  0.115667   \n",
       "236  0.019940 -0.036049 -0.070484  ...  0.012517  0.016850  0.054219   \n",
       "\n",
       "           25        26        27        28        29        30        31  \n",
       "0    0.043979 -0.034690  0.022817 -0.040245 -0.053900  0.009172  0.005099  \n",
       "1    0.001297 -0.000227 -0.029726 -0.029355  0.030377 -0.088298 -0.016502  \n",
       "2    0.172628 -0.034391 -0.033215  0.066284  0.004242  0.008450  0.063859  \n",
       "3   -0.106033  0.016574 -0.042558  0.054139 -0.156296  0.043210 -0.015071  \n",
       "4   -0.006428  0.027332  0.110127 -0.085280  0.111498 -0.014845 -0.047135  \n",
       "..        ...       ...       ...       ...       ...       ...       ...  \n",
       "232 -0.026866  0.033683 -0.003449  0.045210 -0.031737 -0.025112  0.094655  \n",
       "233  0.072452 -0.120473  0.026516  0.012172 -0.079257 -0.053289 -0.018145  \n",
       "234 -0.116215 -0.038889  0.151991 -0.147943  0.013299 -0.074997 -0.026430  \n",
       "235  0.056416  0.038972  0.158752  0.062951  0.029513  0.047907  0.048659  \n",
       "236  0.020620 -0.032010 -0.041517  0.033516 -0.024260  0.015738  0.046038  \n",
       "\n",
       "[237 rows x 34 columns]"
      ]
     },
     "execution_count": 134,
     "metadata": {},
     "output_type": "execute_result"
    }
   ],
   "source": [
    "df"
   ]
  },
  {
   "cell_type": "code",
   "execution_count": 61,
   "metadata": {
    "ExecuteTime": {
     "end_time": "2022-08-04T13:07:54.504949Z",
     "start_time": "2022-08-04T13:07:54.361604Z"
    },
    "executionInfo": {
     "elapsed": 29,
     "status": "ok",
     "timestamp": 1659602268184,
     "user": {
      "displayName": "Sarthak Rastogi",
      "userId": "13011506269675720653"
     },
     "user_tz": -330
    },
    "id": "1XtyQoix4seG"
   },
   "outputs": [
    {
     "data": {
      "text/html": [
       "<div>\n",
       "<style scoped>\n",
       "    .dataframe tbody tr th:only-of-type {\n",
       "        vertical-align: middle;\n",
       "    }\n",
       "\n",
       "    .dataframe tbody tr th {\n",
       "        vertical-align: top;\n",
       "    }\n",
       "\n",
       "    .dataframe thead th {\n",
       "        text-align: right;\n",
       "    }\n",
       "</style>\n",
       "<table border=\"1\" class=\"dataframe\">\n",
       "  <thead>\n",
       "    <tr style=\"text-align: right;\">\n",
       "      <th></th>\n",
       "      <th>Label</th>\n",
       "      <th>0</th>\n",
       "      <th>1</th>\n",
       "      <th>2</th>\n",
       "      <th>3</th>\n",
       "      <th>4</th>\n",
       "      <th>5</th>\n",
       "      <th>6</th>\n",
       "      <th>7</th>\n",
       "      <th>8</th>\n",
       "      <th>...</th>\n",
       "      <th>22</th>\n",
       "      <th>23</th>\n",
       "      <th>24</th>\n",
       "      <th>25</th>\n",
       "      <th>26</th>\n",
       "      <th>27</th>\n",
       "      <th>28</th>\n",
       "      <th>29</th>\n",
       "      <th>30</th>\n",
       "      <th>31</th>\n",
       "    </tr>\n",
       "  </thead>\n",
       "  <tbody>\n",
       "    <tr>\n",
       "      <th>0</th>\n",
       "      <td>2.0</td>\n",
       "      <td>0.072486</td>\n",
       "      <td>0.000248</td>\n",
       "      <td>-0.004115</td>\n",
       "      <td>-0.127074</td>\n",
       "      <td>-0.022094</td>\n",
       "      <td>0.065082</td>\n",
       "      <td>0.003742</td>\n",
       "      <td>0.063882</td>\n",
       "      <td>0.053287</td>\n",
       "      <td>...</td>\n",
       "      <td>0.001921</td>\n",
       "      <td>-0.112823</td>\n",
       "      <td>0.007213</td>\n",
       "      <td>0.032006</td>\n",
       "      <td>-0.037990</td>\n",
       "      <td>0.019297</td>\n",
       "      <td>-0.024183</td>\n",
       "      <td>-0.027690</td>\n",
       "      <td>0.038694</td>\n",
       "      <td>0.063382</td>\n",
       "    </tr>\n",
       "    <tr>\n",
       "      <th>1</th>\n",
       "      <td>0.0</td>\n",
       "      <td>0.119010</td>\n",
       "      <td>-0.030075</td>\n",
       "      <td>-0.078117</td>\n",
       "      <td>0.012294</td>\n",
       "      <td>-0.050207</td>\n",
       "      <td>-0.080718</td>\n",
       "      <td>0.074633</td>\n",
       "      <td>-0.000086</td>\n",
       "      <td>-0.101405</td>\n",
       "      <td>...</td>\n",
       "      <td>-0.055586</td>\n",
       "      <td>0.036995</td>\n",
       "      <td>-0.027712</td>\n",
       "      <td>0.000024</td>\n",
       "      <td>-0.008325</td>\n",
       "      <td>-0.024396</td>\n",
       "      <td>-0.016687</td>\n",
       "      <td>-0.005635</td>\n",
       "      <td>-0.094160</td>\n",
       "      <td>0.031379</td>\n",
       "    </tr>\n",
       "    <tr>\n",
       "      <th>2</th>\n",
       "      <td>0.0</td>\n",
       "      <td>-0.070066</td>\n",
       "      <td>0.032853</td>\n",
       "      <td>0.037138</td>\n",
       "      <td>-0.087919</td>\n",
       "      <td>-0.106282</td>\n",
       "      <td>0.100417</td>\n",
       "      <td>-0.021176</td>\n",
       "      <td>-0.059002</td>\n",
       "      <td>0.087829</td>\n",
       "      <td>...</td>\n",
       "      <td>0.058884</td>\n",
       "      <td>0.013660</td>\n",
       "      <td>0.061553</td>\n",
       "      <td>0.174045</td>\n",
       "      <td>-0.053489</td>\n",
       "      <td>-0.047574</td>\n",
       "      <td>0.031374</td>\n",
       "      <td>-0.036636</td>\n",
       "      <td>-0.010232</td>\n",
       "      <td>-0.096340</td>\n",
       "    </tr>\n",
       "    <tr>\n",
       "      <th>3</th>\n",
       "      <td>1.0</td>\n",
       "      <td>-0.184983</td>\n",
       "      <td>-0.259079</td>\n",
       "      <td>-0.135025</td>\n",
       "      <td>0.120678</td>\n",
       "      <td>0.059934</td>\n",
       "      <td>-0.062732</td>\n",
       "      <td>0.084064</td>\n",
       "      <td>0.213234</td>\n",
       "      <td>-0.092404</td>\n",
       "      <td>...</td>\n",
       "      <td>0.028968</td>\n",
       "      <td>-0.030234</td>\n",
       "      <td>0.002481</td>\n",
       "      <td>-0.090266</td>\n",
       "      <td>0.032924</td>\n",
       "      <td>-0.052322</td>\n",
       "      <td>-0.013199</td>\n",
       "      <td>-0.092490</td>\n",
       "      <td>0.132573</td>\n",
       "      <td>0.055342</td>\n",
       "    </tr>\n",
       "    <tr>\n",
       "      <th>4</th>\n",
       "      <td>0.0</td>\n",
       "      <td>0.156783</td>\n",
       "      <td>0.042054</td>\n",
       "      <td>-0.097452</td>\n",
       "      <td>-0.094782</td>\n",
       "      <td>-0.209321</td>\n",
       "      <td>0.120856</td>\n",
       "      <td>-0.067509</td>\n",
       "      <td>0.153799</td>\n",
       "      <td>0.096455</td>\n",
       "      <td>...</td>\n",
       "      <td>0.077904</td>\n",
       "      <td>0.022301</td>\n",
       "      <td>-0.027473</td>\n",
       "      <td>-0.007752</td>\n",
       "      <td>0.037270</td>\n",
       "      <td>0.113074</td>\n",
       "      <td>-0.029237</td>\n",
       "      <td>0.058032</td>\n",
       "      <td>-0.101985</td>\n",
       "      <td>0.048814</td>\n",
       "    </tr>\n",
       "    <tr>\n",
       "      <th>...</th>\n",
       "      <td>...</td>\n",
       "      <td>...</td>\n",
       "      <td>...</td>\n",
       "      <td>...</td>\n",
       "      <td>...</td>\n",
       "      <td>...</td>\n",
       "      <td>...</td>\n",
       "      <td>...</td>\n",
       "      <td>...</td>\n",
       "      <td>...</td>\n",
       "      <td>...</td>\n",
       "      <td>...</td>\n",
       "      <td>...</td>\n",
       "      <td>...</td>\n",
       "      <td>...</td>\n",
       "      <td>...</td>\n",
       "      <td>...</td>\n",
       "      <td>...</td>\n",
       "      <td>...</td>\n",
       "      <td>...</td>\n",
       "      <td>...</td>\n",
       "    </tr>\n",
       "    <tr>\n",
       "      <th>232</th>\n",
       "      <td>3.0</td>\n",
       "      <td>-0.267836</td>\n",
       "      <td>-0.258088</td>\n",
       "      <td>0.008073</td>\n",
       "      <td>-0.033932</td>\n",
       "      <td>0.112432</td>\n",
       "      <td>-0.090371</td>\n",
       "      <td>0.087786</td>\n",
       "      <td>0.138120</td>\n",
       "      <td>-0.056336</td>\n",
       "      <td>...</td>\n",
       "      <td>-0.069588</td>\n",
       "      <td>-0.023723</td>\n",
       "      <td>0.001169</td>\n",
       "      <td>-0.028277</td>\n",
       "      <td>0.030329</td>\n",
       "      <td>-0.001013</td>\n",
       "      <td>0.029353</td>\n",
       "      <td>-0.118513</td>\n",
       "      <td>0.010326</td>\n",
       "      <td>-0.060841</td>\n",
       "    </tr>\n",
       "    <tr>\n",
       "      <th>233</th>\n",
       "      <td>3.0</td>\n",
       "      <td>-0.048973</td>\n",
       "      <td>-0.027855</td>\n",
       "      <td>-0.016548</td>\n",
       "      <td>-0.138835</td>\n",
       "      <td>-0.042492</td>\n",
       "      <td>-0.054023</td>\n",
       "      <td>0.069929</td>\n",
       "      <td>-0.018461</td>\n",
       "      <td>0.044041</td>\n",
       "      <td>...</td>\n",
       "      <td>0.016757</td>\n",
       "      <td>-0.065773</td>\n",
       "      <td>0.108083</td>\n",
       "      <td>0.049610</td>\n",
       "      <td>-0.121704</td>\n",
       "      <td>0.014680</td>\n",
       "      <td>0.011982</td>\n",
       "      <td>-0.087532</td>\n",
       "      <td>0.022833</td>\n",
       "      <td>0.066126</td>\n",
       "    </tr>\n",
       "    <tr>\n",
       "      <th>234</th>\n",
       "      <td>3.0</td>\n",
       "      <td>-0.225683</td>\n",
       "      <td>-0.042009</td>\n",
       "      <td>0.049713</td>\n",
       "      <td>-0.097044</td>\n",
       "      <td>0.032553</td>\n",
       "      <td>-0.016506</td>\n",
       "      <td>0.000675</td>\n",
       "      <td>-0.014635</td>\n",
       "      <td>0.091858</td>\n",
       "      <td>...</td>\n",
       "      <td>-0.102810</td>\n",
       "      <td>-0.012759</td>\n",
       "      <td>0.122628</td>\n",
       "      <td>-0.116673</td>\n",
       "      <td>-0.051462</td>\n",
       "      <td>0.159170</td>\n",
       "      <td>-0.162949</td>\n",
       "      <td>-0.001091</td>\n",
       "      <td>-0.115758</td>\n",
       "      <td>-0.008652</td>\n",
       "    </tr>\n",
       "    <tr>\n",
       "      <th>235</th>\n",
       "      <td>3.0</td>\n",
       "      <td>0.148336</td>\n",
       "      <td>0.193006</td>\n",
       "      <td>0.016595</td>\n",
       "      <td>0.096854</td>\n",
       "      <td>0.186788</td>\n",
       "      <td>0.013495</td>\n",
       "      <td>0.057880</td>\n",
       "      <td>-0.087630</td>\n",
       "      <td>-0.074676</td>\n",
       "      <td>...</td>\n",
       "      <td>-0.009479</td>\n",
       "      <td>0.130207</td>\n",
       "      <td>0.108705</td>\n",
       "      <td>0.062347</td>\n",
       "      <td>0.054146</td>\n",
       "      <td>0.148231</td>\n",
       "      <td>0.093170</td>\n",
       "      <td>0.090770</td>\n",
       "      <td>0.061481</td>\n",
       "      <td>-0.042293</td>\n",
       "    </tr>\n",
       "    <tr>\n",
       "      <th>236</th>\n",
       "      <td>3.0</td>\n",
       "      <td>0.249120</td>\n",
       "      <td>0.169343</td>\n",
       "      <td>-0.095951</td>\n",
       "      <td>-0.023057</td>\n",
       "      <td>0.193757</td>\n",
       "      <td>0.019812</td>\n",
       "      <td>-0.036081</td>\n",
       "      <td>-0.070357</td>\n",
       "      <td>-0.060360</td>\n",
       "      <td>...</td>\n",
       "      <td>0.025133</td>\n",
       "      <td>0.023689</td>\n",
       "      <td>0.050695</td>\n",
       "      <td>0.026709</td>\n",
       "      <td>-0.022973</td>\n",
       "      <td>-0.040676</td>\n",
       "      <td>-0.013719</td>\n",
       "      <td>-0.003048</td>\n",
       "      <td>0.026220</td>\n",
       "      <td>-0.069927</td>\n",
       "    </tr>\n",
       "  </tbody>\n",
       "</table>\n",
       "<p>237 rows × 33 columns</p>\n",
       "</div>"
      ],
      "text/plain": [
       "     Label         0         1         2         3         4         5  \\\n",
       "0      2.0  0.072486  0.000248 -0.004115 -0.127074 -0.022094  0.065082   \n",
       "1      0.0  0.119010 -0.030075 -0.078117  0.012294 -0.050207 -0.080718   \n",
       "2      0.0 -0.070066  0.032853  0.037138 -0.087919 -0.106282  0.100417   \n",
       "3      1.0 -0.184983 -0.259079 -0.135025  0.120678  0.059934 -0.062732   \n",
       "4      0.0  0.156783  0.042054 -0.097452 -0.094782 -0.209321  0.120856   \n",
       "..     ...       ...       ...       ...       ...       ...       ...   \n",
       "232    3.0 -0.267836 -0.258088  0.008073 -0.033932  0.112432 -0.090371   \n",
       "233    3.0 -0.048973 -0.027855 -0.016548 -0.138835 -0.042492 -0.054023   \n",
       "234    3.0 -0.225683 -0.042009  0.049713 -0.097044  0.032553 -0.016506   \n",
       "235    3.0  0.148336  0.193006  0.016595  0.096854  0.186788  0.013495   \n",
       "236    3.0  0.249120  0.169343 -0.095951 -0.023057  0.193757  0.019812   \n",
       "\n",
       "            6         7         8  ...        22        23        24  \\\n",
       "0    0.003742  0.063882  0.053287  ...  0.001921 -0.112823  0.007213   \n",
       "1    0.074633 -0.000086 -0.101405  ... -0.055586  0.036995 -0.027712   \n",
       "2   -0.021176 -0.059002  0.087829  ...  0.058884  0.013660  0.061553   \n",
       "3    0.084064  0.213234 -0.092404  ...  0.028968 -0.030234  0.002481   \n",
       "4   -0.067509  0.153799  0.096455  ...  0.077904  0.022301 -0.027473   \n",
       "..        ...       ...       ...  ...       ...       ...       ...   \n",
       "232  0.087786  0.138120 -0.056336  ... -0.069588 -0.023723  0.001169   \n",
       "233  0.069929 -0.018461  0.044041  ...  0.016757 -0.065773  0.108083   \n",
       "234  0.000675 -0.014635  0.091858  ... -0.102810 -0.012759  0.122628   \n",
       "235  0.057880 -0.087630 -0.074676  ... -0.009479  0.130207  0.108705   \n",
       "236 -0.036081 -0.070357 -0.060360  ...  0.025133  0.023689  0.050695   \n",
       "\n",
       "           25        26        27        28        29        30        31  \n",
       "0    0.032006 -0.037990  0.019297 -0.024183 -0.027690  0.038694  0.063382  \n",
       "1    0.000024 -0.008325 -0.024396 -0.016687 -0.005635 -0.094160  0.031379  \n",
       "2    0.174045 -0.053489 -0.047574  0.031374 -0.036636 -0.010232 -0.096340  \n",
       "3   -0.090266  0.032924 -0.052322 -0.013199 -0.092490  0.132573  0.055342  \n",
       "4   -0.007752  0.037270  0.113074 -0.029237  0.058032 -0.101985  0.048814  \n",
       "..        ...       ...       ...       ...       ...       ...       ...  \n",
       "232 -0.028277  0.030329 -0.001013  0.029353 -0.118513  0.010326 -0.060841  \n",
       "233  0.049610 -0.121704  0.014680  0.011982 -0.087532  0.022833  0.066126  \n",
       "234 -0.116673 -0.051462  0.159170 -0.162949 -0.001091 -0.115758 -0.008652  \n",
       "235  0.062347  0.054146  0.148231  0.093170  0.090770  0.061481 -0.042293  \n",
       "236  0.026709 -0.022973 -0.040676 -0.013719 -0.003048  0.026220 -0.069927  \n",
       "\n",
       "[237 rows x 33 columns]"
      ]
     },
     "execution_count": 61,
     "metadata": {},
     "output_type": "execute_result"
    }
   ],
   "source": [
    "df = pd.read_csv(\"embeddings_df.csv\")\n",
    "df"
   ]
  },
  {
   "cell_type": "code",
   "execution_count": 62,
   "metadata": {
    "ExecuteTime": {
     "end_time": "2022-08-04T13:07:55.110053Z",
     "start_time": "2022-08-04T13:07:55.085653Z"
    }
   },
   "outputs": [],
   "source": [
    "df.dropna(inplace=True)"
   ]
  },
  {
   "cell_type": "code",
   "execution_count": 63,
   "metadata": {
    "ExecuteTime": {
     "end_time": "2022-08-04T13:07:55.452800Z",
     "start_time": "2022-08-04T13:07:55.436571Z"
    }
   },
   "outputs": [],
   "source": [
    "X = df.drop('Label', axis=1)\n",
    "y = df['Label']"
   ]
  },
  {
   "cell_type": "code",
   "execution_count": 64,
   "metadata": {
    "ExecuteTime": {
     "end_time": "2022-08-04T13:07:55.890245Z",
     "start_time": "2022-08-04T13:07:55.864351Z"
    }
   },
   "outputs": [],
   "source": [
    "from sklearn.model_selection import train_test_split\n",
    "from sklearn.metrics import accuracy_score, recall_score, precision_score, confusion_matrix\n",
    "from sklearn.linear_model import LogisticRegression\n",
    "from sklearn.svm import SVC\n",
    "from sklearn.tree import DecisionTreeClassifier\n",
    "from sklearn.ensemble import RandomForestClassifier"
   ]
  },
  {
   "cell_type": "code",
   "execution_count": 97,
   "metadata": {
    "ExecuteTime": {
     "end_time": "2022-08-04T13:08:48.796682Z",
     "start_time": "2022-08-04T13:08:48.783103Z"
    }
   },
   "outputs": [],
   "source": [
    "X_train, X_test, y_train, y_test = train_test_split(X, y, test_size=0.25)"
   ]
  },
  {
   "cell_type": "code",
   "execution_count": 82,
   "metadata": {
    "ExecuteTime": {
     "end_time": "2022-08-04T13:08:22.509923Z",
     "start_time": "2022-08-04T13:08:22.484705Z"
    }
   },
   "outputs": [],
   "source": [
    "def train_model(X_train, X_test, y_train, y_test, algo):\n",
    "    model = algo\n",
    "    model.fit(X_train, y_train)\n",
    "    y_pred = model.predict(X_test)\n",
    "    print(\"Accuracy:\", accuracy_score(y_test, y_pred))\n",
    "    print(confusion_matrix(y_test, y_pred))\n",
    "    #print(\"Recall:\", recall_score(y_test, y_pred))\n",
    "    #print(\"Precision:\", precision_score(y_test, y_pred))"
   ]
  },
  {
   "cell_type": "code",
   "execution_count": 98,
   "metadata": {
    "ExecuteTime": {
     "end_time": "2022-08-04T13:08:49.591715Z",
     "start_time": "2022-08-04T13:08:49.522749Z"
    }
   },
   "outputs": [
    {
     "name": "stdout",
     "output_type": "stream",
     "text": [
      "Accuracy: 0.7288135593220338\n",
      "[[12  4  6]\n",
      " [ 1 17  2]\n",
      " [ 1  2 14]]\n"
     ]
    }
   ],
   "source": [
    "train_model(X_train, X_test, y_train, y_test, LogisticRegression())"
   ]
  },
  {
   "cell_type": "code",
   "execution_count": 99,
   "metadata": {
    "ExecuteTime": {
     "end_time": "2022-08-04T13:08:51.831247Z",
     "start_time": "2022-08-04T13:08:51.771733Z"
    }
   },
   "outputs": [
    {
     "name": "stdout",
     "output_type": "stream",
     "text": [
      "Accuracy: 0.7288135593220338\n",
      "[[13  2  7]\n",
      " [ 2 16  2]\n",
      " [ 2  1 14]]\n"
     ]
    }
   ],
   "source": [
    "train_model(X_train, X_test, y_train, y_test, SVC(kernel='linear'))"
   ]
  },
  {
   "cell_type": "code",
   "execution_count": 100,
   "metadata": {
    "ExecuteTime": {
     "end_time": "2022-08-04T13:08:52.314566Z",
     "start_time": "2022-08-04T13:08:52.234819Z"
    }
   },
   "outputs": [
    {
     "name": "stdout",
     "output_type": "stream",
     "text": [
      "Accuracy: 0.7796610169491526\n",
      "[[16  1  5]\n",
      " [ 1 17  2]\n",
      " [ 4  0 13]]\n"
     ]
    }
   ],
   "source": [
    "train_model(X_train, X_test, y_train, y_test, SVC(kernel='rbf'))"
   ]
  },
  {
   "cell_type": "code",
   "execution_count": 101,
   "metadata": {
    "ExecuteTime": {
     "end_time": "2022-08-04T13:08:52.517512Z",
     "start_time": "2022-08-04T13:08:52.461635Z"
    },
    "scrolled": true
   },
   "outputs": [
    {
     "name": "stdout",
     "output_type": "stream",
     "text": [
      "Accuracy: 0.576271186440678\n",
      "[[12  2  6  2]\n",
      " [ 2 13  5  0]\n",
      " [ 4  4  9  0]\n",
      " [ 0  0  0  0]]\n"
     ]
    }
   ],
   "source": [
    "train_model(X_train, X_test, y_train, y_test, DecisionTreeClassifier())"
   ]
  },
  {
   "cell_type": "code",
   "execution_count": 102,
   "metadata": {
    "ExecuteTime": {
     "end_time": "2022-08-04T13:08:53.142234Z",
     "start_time": "2022-08-04T13:08:52.750378Z"
    }
   },
   "outputs": [
    {
     "name": "stdout",
     "output_type": "stream",
     "text": [
      "Accuracy: 0.6779661016949152\n",
      "[[13  4  5]\n",
      " [ 1 17  2]\n",
      " [ 2  5 10]]\n"
     ]
    }
   ],
   "source": [
    "train_model(X_train, X_test, y_train, y_test, RandomForestClassifier())"
   ]
  },
  {
   "cell_type": "code",
   "execution_count": 103,
   "metadata": {
    "ExecuteTime": {
     "end_time": "2022-08-04T13:08:54.549976Z",
     "start_time": "2022-08-04T13:08:54.227744Z"
    }
   },
   "outputs": [
    {
     "name": "stderr",
     "output_type": "stream",
     "text": [
      "C:\\ProgramData\\Anaconda3\\lib\\site-packages\\xgboost\\sklearn.py:1224: UserWarning: The use of label encoder in XGBClassifier is deprecated and will be removed in a future release. To remove this warning, do the following: 1) Pass option use_label_encoder=False when constructing XGBClassifier object; and 2) Encode your labels (y) as integers starting with 0, i.e. 0, 1, 2, ..., [num_class - 1].\n",
      "  warnings.warn(label_encoder_deprecation_msg, UserWarning)\n"
     ]
    },
    {
     "name": "stdout",
     "output_type": "stream",
     "text": [
      "[18:38:54] WARNING: C:/Users/Administrator/workspace/xgboost-win64_release_1.5.0/src/learner.cc:1115: Starting in XGBoost 1.3.0, the default evaluation metric used with the objective 'multi:softprob' was changed from 'merror' to 'mlogloss'. Explicitly set eval_metric if you'd like to restore the old behavior.\n",
      "Accuracy: 0.6610169491525424\n",
      "[[13  4  5  0]\n",
      " [ 1 17  2  0]\n",
      " [ 3  4  9  1]\n",
      " [ 0  0  0  0]]\n"
     ]
    }
   ],
   "source": [
    "train_model(X_train, X_test, y_train, y_test, xgb.XGBClassifier())"
   ]
  },
  {
   "cell_type": "code",
   "execution_count": null,
   "metadata": {},
   "outputs": [],
   "source": []
  }
 ],
 "metadata": {
  "colab": {
   "collapsed_sections": [],
   "name": "Query Classification.ipynb",
   "provenance": []
  },
  "kernelspec": {
   "display_name": "Python 3",
   "language": "python",
   "name": "python3"
  },
  "language_info": {
   "codemirror_mode": {
    "name": "ipython",
    "version": 3
   },
   "file_extension": ".py",
   "mimetype": "text/x-python",
   "name": "python",
   "nbconvert_exporter": "python",
   "pygments_lexer": "ipython3",
   "version": "3.8.5"
  }
 },
 "nbformat": 4,
 "nbformat_minor": 1
}
